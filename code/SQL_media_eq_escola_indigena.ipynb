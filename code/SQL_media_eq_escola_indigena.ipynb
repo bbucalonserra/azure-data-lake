{
 "cells": [
  {
   "cell_type": "code",
   "execution_count": null,
   "metadata": {},
   "outputs": [],
   "source": [
    "SELECT\n",
    "  Nome_UF,\n",
    "  ROUND(AVG(Total_Equipamentos),2) AS Media_Equip\n",
    "FROM gold.educacao_rend_escolas_joined\n",
    "WHERE\n",
    "  Taxa_de_Abandono_Educacao_Basica IS NOT NULL\n",
    "  AND Taxa_de_Abandono_Educacao_Basica <> 0\n",
    "  AND Localizacao_Diferenciada = 2\n",
    "GROUP BY ALL\n",
    "ORDER BY Media_Equip DESC"
   ]
  }
 ],
 "metadata": {
  "language_info": {
   "name": "python"
  },
  "orig_nbformat": 4
 },
 "nbformat": 4,
 "nbformat_minor": 2
}
