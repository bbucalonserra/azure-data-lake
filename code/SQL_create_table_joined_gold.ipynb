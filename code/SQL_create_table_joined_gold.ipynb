{
 "cells": [
  {
   "cell_type": "code",
   "execution_count": null,
   "metadata": {},
   "outputs": [],
   "source": [
    "CREATE TABLE gold.educacao_rend_escolas_joined\n",
    "(\n",
    "  Ano_Censo INT NOT NULL,\n",
    "  Regiao STRING NOT NULL,\n",
    "  Nome_UF STRING NOT NULL,\n",
    "  UF STRING NOT NULL,\n",
    "  Nome_do_Municipio STRING,\n",
    "  Codigo_do_Municipio INTEGER,\n",
    "  Dependencia INTEGER,\n",
    "  Dependencia_Administrativa STRING,\n",
    "  Localizacao STRING,\n",
    "  Tipo_Localizacao INTEGER,\n",
    "  Codigo_da_Escola INTEGER NOT NULL,\n",
    "  Nome_da_Escola STRING,\n",
    "  Categoria_Escola_Privada INTEGER,\n",
    "  Localizacao_Diferenciada INTEGER,\n",
    "  Matriculas_Eduacao_Basica INTEGER NOT NULL,\n",
    "  Matriculas_Educacao_Basica_Femino INTEGER NOT NULL,\n",
    "  Matriculas_Educacao_Basica_Masculino INTEGER NOT NULL,\n",
    "  Total_Equipamentos INTEGER,\n",
    "  Computadores INTEGER,\n",
    "  Computadores_Administrativos INTEGER,\n",
    "  Salas_Existentes INTEGER,\n",
    "  Internet INTEGER,\n",
    "  Educacao_Indigena INTEGER,\n",
    "  Lingua_Indigena INTEGER,\n",
    "  Lingua_Indigena_1 INTEGER,\n",
    "  Lingua_Indigena_2 INTEGER,\n",
    "  Lingua_Indigena_3 INTEGER,\n",
    "  Material_Indigena INTEGER,\n",
    "  Taxa_de_Aprovacao_Educacao_Basica FLOAT, \n",
    "  Taxa_de_Reprovacao_Educacao_Basica FLOAT,\n",
    "  Taxa_de_Abandono_Educacao_Basica FLOAT\n",
    ")\n",
    "\n",
    "USING CSV LOCATION 'abfss://gold@educacaobasica.dfs.core.windows.net/microdados_ed_basica_2022/educacao_rend_escolas_joined'\n",
    "OPTIONS (\n",
    "  header = \"true\",\n",
    "  delimiter = \",\"\n",
    ")"
   ]
  }
 ],
 "metadata": {
  "language_info": {
   "name": "python"
  },
  "orig_nbformat": 4
 },
 "nbformat": 4,
 "nbformat_minor": 2
}
