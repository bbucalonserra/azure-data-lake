{
 "cells": [
  {
   "cell_type": "code",
   "execution_count": null,
   "metadata": {},
   "outputs": [],
   "source": [
    "SELECT\n",
    "  Lingua_Indigena,\n",
    "  ROUND(COUNT(Codigo_da_Escola) * 100.0 / SUM(COUNT(Codigo_da_Escola)) OVER (), 2) AS PORCENTAGEM_DE_ESCOLAS\n",
    "FROM gold.educacao_rend_escolas_joined\n",
    "WHERE\n",
    "  Localizacao_Diferenciada = 2\n",
    "GROUP BY Lingua_Indigena\n",
    "ORDER BY Lingua_indigena"
   ]
  }
 ],
 "metadata": {
  "language_info": {
   "name": "python"
  },
  "orig_nbformat": 4
 },
 "nbformat": 4,
 "nbformat_minor": 2
}
