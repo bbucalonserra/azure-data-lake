{
 "cells": [
  {
   "cell_type": "code",
   "execution_count": null,
   "metadata": {},
   "outputs": [],
   "source": [
    "SELECT\n",
    "  NOME_UF,\n",
    "  ROUND((SUM(CASE WHEN Internet = 1 THEN 1 ELSE 0 END) / COUNT(*)) * 100, 2) AS PORCENTAGEM_COM_INTERNET\n",
    "FROM gold.educacao_rend_escolas_joined\n",
    "WHERE \n",
    "  Localizacao_Diferenciada = 2\n",
    "GROUP BY NOME_UF\n",
    "ORDER BY PORCENTAGEM_COM_INTERNET DESC"
   ]
  }
 ],
 "metadata": {
  "language_info": {
   "name": "python"
  },
  "orig_nbformat": 4
 },
 "nbformat": 4,
 "nbformat_minor": 2
}
