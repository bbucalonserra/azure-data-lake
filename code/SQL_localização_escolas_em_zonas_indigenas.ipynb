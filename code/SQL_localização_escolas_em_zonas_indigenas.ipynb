{
 "cells": [
  {
   "cell_type": "code",
   "execution_count": null,
   "metadata": {},
   "outputs": [],
   "source": [
    "SELECT\n",
    "Nome_UF,\n",
    "COUNT(Codigo_da_Escola) AS Contagem_Escolas\n",
    "FROM GOLD.educacao_rend_escolas_joined\n",
    "WHERE Localizacao_Diferenciada = 2\n",
    "GROUP BY Nome_UF\n",
    "ORDER BY Contagem_Escolas DESC"
   ]
  }
 ],
 "metadata": {
  "language_info": {
   "name": "python"
  },
  "orig_nbformat": 4
 },
 "nbformat": 4,
 "nbformat_minor": 2
}
