{
 "cells": [
  {
   "cell_type": "code",
   "execution_count": null,
   "metadata": {},
   "outputs": [],
   "source": [
    "WITH INDIGENAS AS (\n",
    "  SELECT\n",
    "    SUM(matriculas_educacao_basica) AS Soma_matriculas_indigenas\n",
    "  FROM gold.educacao_rend_escolas_joined\n",
    "  WHERE Localizacao_Diferenciada = 2  \n",
    "),\n",
    "\n",
    "GERAL AS (\n",
    "  SELECT\n",
    "    SUM(matriculas_educacao_basica) AS Soma_matriculas_geral\n",
    "  FROM gold.educacao_rend_escolas_joined\n",
    ")\n",
    "\n",
    "SELECT\n",
    "  ROUND((INDIGENAS.Soma_matriculas_indigenas * 100.0 / GERAL.Soma_matriculas_geral),2) AS Porcentagem_matriculas_indigenas\n",
    "FROM INDIGENAS, GERAL;\n"
   ]
  }
 ],
 "metadata": {
  "language_info": {
   "name": "python"
  },
  "orig_nbformat": 4
 },
 "nbformat": 4,
 "nbformat_minor": 2
}
