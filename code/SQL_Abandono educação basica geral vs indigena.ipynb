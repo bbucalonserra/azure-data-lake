{
 "cells": [
  {
   "cell_type": "code",
   "execution_count": null,
   "metadata": {},
   "outputs": [],
   "source": [
    "WITH ED_INDIGENA AS (\n",
    "  SELECT\n",
    "    AVG(Taxa_de_Abandono_Educacao_Basica) AS MEDIA_ED_BASICA_INDIGENA\n",
    "  FROM gold.educacao_rend_escolas_joined\n",
    "  WHERE\n",
    "    Localizacao_Diferenciada = 2\n",
    "    AND Taxa_de_Abandono_Educacao_Basica <> 0\n",
    "    AND Taxa_de_Abandono_Educacao_Basica IS NOT NULL \n",
    "),\n",
    "\n",
    "ED_GERAL AS (\n",
    "  SELECT\n",
    "    AVG(Taxa_de_Abandono_Educacao_Basica) AS MEDIA_ED_BASICA_GERAL\n",
    "  FROM gold.educacao_rend_escolas_joined\n",
    "  WHERE\n",
    "    Taxa_de_Abandono_Educacao_Basica <> 0\n",
    "    AND Taxa_de_Abandono_Educacao_Basica IS NOT NULL  \n",
    ")\n",
    "\n",
    "SELECT\n",
    "  ROUND(ED_INDIGENA.MEDIA_ED_BASICA_INDIGENA, 2) AS MEDIA_ED_BASICA_INDIGENA,\n",
    "  ROUND(ED_GERAL.MEDIA_ED_BASICA_GERAL, 2) AS MEDIA_ED_BASICA_GERAL,\n",
    "  ROUND((ED_INDIGENA.MEDIA_ED_BASICA_INDIGENA - ED_GERAL.MEDIA_ED_BASICA_GERAL), 2) AS DIFERENCA_PERCENTUAL,\n",
    "  ROUND((ED_INDIGENA.MEDIA_ED_BASICA_INDIGENA - ED_GERAL.MEDIA_ED_BASICA_GERAL) / ED_GERAL.MEDIA_ED_BASICA_GERAL * 100, 2) AS DIFERENCA_EM_PORCENTAGEM\n",
    "FROM ED_INDIGENA, ED_GERAL;"
   ]
  }
 ],
 "metadata": {
  "language_info": {
   "name": "python"
  },
  "orig_nbformat": 4
 },
 "nbformat": 4,
 "nbformat_minor": 2
}
