{
 "cells": [
  {
   "cell_type": "code",
   "execution_count": null,
   "metadata": {},
   "outputs": [],
   "source": [
    "SELECT\n",
    "  ROUND(COUNT(CASE WHEN material_indigena = 1 THEN 1 ELSE NULL END) / COUNT(*),2) AS CONT_MATERIAL_INDIGENA_RATIO\n",
    "FROM gold.educacao_rend_escolas_joined\n",
    "WHERE\n",
    "  Localizacao_Diferenciada = 2"
   ]
  }
 ],
 "metadata": {
  "language_info": {
   "name": "python"
  },
  "orig_nbformat": 4
 },
 "nbformat": 4,
 "nbformat_minor": 2
}
