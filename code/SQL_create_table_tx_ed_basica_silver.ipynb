{
 "cells": [
  {
   "cell_type": "code",
   "execution_count": null,
   "metadata": {},
   "outputs": [],
   "source": [
    "CREATE TABLE silver.tx_rend_escolas_2022 \n",
    "(\n",
    "  Ano INT NOT NULL, \n",
    "  Regiao STRING NOT NULL,\n",
    "  UF STRING NOT NULL,\n",
    "  Codigo_do_Municipio INT NOT NULL,\n",
    "  Nome_do_Municipio STRING,\n",
    "  Codigo_da_Escola INT NOT NULL,\n",
    "  Nome_da_Escola STRING,\n",
    "  Localizacao STRING,\n",
    "  Dependencia_Administrativa STRING,\n",
    "  Taxa_de_Aprovacao_Educacao_Basica FLOAT,\n",
    "  Taxa_de_Reprovacao_Educacao_Basica FLOAT,\n",
    "  Taxa_de_Abandono_Educacao_Basica FLOAT\n",
    ")\n",
    "USING CSV LOCATION 'abfss://silver@educacaobasica.dfs.core.windows.net/microdados_ed_basica_2022/tx_rend_escolas_2022_silver'\n",
    "OPTIONS (\n",
    "  header = \"true\",\n",
    "  delimiter = \",\"\n",
    ")"
   ]
  }
 ],
 "metadata": {
  "language_info": {
   "name": "python"
  },
  "orig_nbformat": 4
 },
 "nbformat": 4,
 "nbformat_minor": 2
}
