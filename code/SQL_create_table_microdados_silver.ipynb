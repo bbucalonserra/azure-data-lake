{
 "cells": [
  {
   "cell_type": "code",
   "execution_count": null,
   "metadata": {},
   "outputs": [],
   "source": [
    "CREATE TABLE silver.educacao_basica_2022\n",
    "  (NU_ANO_CENSO INT NOT NULL,\n",
    "  NO_REGIAO STRING NOT NULL,\n",
    "  NO_UF STRING NOT NULL,\n",
    "  NO_MESORREGIAO STRING NOT NULL,\n",
    "  NO_ENTIDADE STRING NOT NULL,\n",
    "  CO_ENTIDADE INTEGER NOT NULL,\n",
    "  TP_DEPENDENCIA INT,\n",
    "  TP_CATEGORIA_ESCOLA_PRIVADA INT,\n",
    "  TP_LOCALIZACAO INT,\n",
    "  QT_MAT_BAS INT,\n",
    "  QT_MAT_BAS_FEM INT,\n",
    "  QT_MAT_BAS_MASC INT,\n",
    "  QT_EQUIP_DVD INT,\n",
    "  QT_EQUIP_TV INT,\n",
    "  QT_EQUIP_LOUSA_DIGITAL INT,\n",
    "  QT_EQUIP_MULTIMIDIA INT,\n",
    "  QT_EQUIP_VIDEOCASSETE INT,\n",
    "  QT_EQUIP_PARABOLICA INT,\n",
    "  QT_EQUIP_COPIADORA INT,\n",
    "  QT_EQUIP_RETROPROJETOR INT,\n",
    "  QT_EQUIP_IMPRESSORA INT,\n",
    "  QT_EQUIP_IMPRESSORA_MULT INT,\n",
    "  QT_EQUIP_FAX INT,\n",
    "  QT_EQUIP_FOTO INT,\n",
    "  QT_COMPUTADOR INT,\n",
    "  QT_COMP_ADMINISTRATIVO INT,\n",
    "  QT_SALAS_EXISTENTES INT,\n",
    "  IN_INTERNET INT,\n",
    "  IN_EDUCACAO_INDIGENA INT,\n",
    "  TP_INDIGENA_LINGUA INT,\n",
    "  CO_LINGUA_INDIGENA_1 INT,\n",
    "  CO_LINGUA_INDIGENA_2 INT,\n",
    "  CO_LINGUA_INDIGENA_3 INT,\n",
    "  IN_MATERIAL_PED_INDIGENA INT)\n",
    "USING CSV LOCATION 'abfss://silver@educacaobasica.dfs.core.windows.net/microdados_ed_basica_2022/educacao_basica_2022_silver'\n",
    "OPTIONS (\n",
    "  header = \"true\",\n",
    "  delimiter = \",\"\n",
    ")"
   ]
  }
 ],
 "metadata": {
  "language_info": {
   "name": "python"
  },
  "orig_nbformat": 4
 },
 "nbformat": 4,
 "nbformat_minor": 2
}
